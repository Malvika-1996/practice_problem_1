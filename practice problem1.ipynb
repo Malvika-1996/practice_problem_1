{
  "nbformat": 4,
  "nbformat_minor": 0,
  "metadata": {
    "colab": {
      "provenance": []
    },
    "kernelspec": {
      "name": "python3",
      "display_name": "Python 3"
    },
    "language_info": {
      "name": "python"
    }
  },
  "cells": [
    {
      "cell_type": "code",
      "execution_count": null,
      "metadata": {
        "colab": {
          "base_uri": "https://localhost:8080/"
        },
        "id": "6YAjlpzDYR7Y",
        "outputId": "e4ad419e-68fe-4d7b-b5a8-02c6d0f64575"
      },
      "outputs": [
        {
          "output_type": "stream",
          "name": "stdout",
          "text": [
            "What's your favorite food? (Type 'quit' to end): Mutton Biryani\n",
            "Nice choice! I also like Mutton Biryani.\n",
            "What's your favorite food? (Type 'quit' to end): Mutton leg\n",
            "Nice choice! I also like Mutton leg.\n",
            "What's your favorite food? (Type 'quit' to end): quit\n",
            "Goodbye! Have a great day.\n"
          ]
        }
      ],
      "source": [
        "while True:\n",
        "    user_input = input(\"What's your favorite food? (Type 'quit' to end): \")\n",
        "\n",
        "    if user_input.lower() == 'quit':\n",
        "        print(\"Goodbye! Have a great day.\")\n",
        "        break\n",
        "\n",
        "    print(f\"Nice choice! I also like {user_input}.\")"
      ]
    },
    {
      "cell_type": "code",
      "source": [],
      "metadata": {
        "id": "2kNUdBmVZE5q"
      },
      "execution_count": null,
      "outputs": []
    }
  ]
}